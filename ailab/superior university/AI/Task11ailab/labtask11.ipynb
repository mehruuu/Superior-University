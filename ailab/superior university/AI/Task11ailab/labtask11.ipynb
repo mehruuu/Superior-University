{
 "cells": [
  {
   "cell_type": "code",
   "execution_count": 1,
   "id": "ab5aa1a5-5591-4618-87da-79e6b37ad4c9",
   "metadata": {},
   "outputs": [],
   "source": [
    "import pandas as pd\n",
    "from sklearn.preprocessing import StandardScaler\n",
    "from sklearn.model_selection import train_test_split"
   ]
  },
  {
   "cell_type": "code",
   "execution_count": 8,
   "id": "3af47149-63bb-4833-bafd-e7d69bb9a0b4",
   "metadata": {},
   "outputs": [],
   "source": [
    "\n",
    "df = pd.read_csv('80111_output.csv')"
   ]
  },
  {
   "cell_type": "code",
   "execution_count": 9,
   "id": "3797dac6",
   "metadata": {},
   "outputs": [
    {
     "name": "stdout",
     "output_type": "stream",
     "text": [
      "ID                 0\n",
      "Orginal Price      0\n",
      "Predicted Price    0\n",
      "dtype: int64\n"
     ]
    }
   ],
   "source": [
    "\n",
    "print(df.isnull().sum())"
   ]
  },
  {
   "cell_type": "code",
   "execution_count": 10,
   "id": "ffeed74d",
   "metadata": {},
   "outputs": [
    {
     "name": "stdout",
     "output_type": "stream",
     "text": [
      "ID                 0\n",
      "Orginal Price      0\n",
      "Predicted Price    0\n",
      "dtype: int64\n"
     ]
    }
   ],
   "source": [
    "df = df.dropna()\n",
    "print(df.isnull().sum())"
   ]
  },
  {
   "cell_type": "code",
   "execution_count": 11,
   "id": "33e059e2",
   "metadata": {},
   "outputs": [
    {
     "name": "stdout",
     "output_type": "stream",
     "text": [
      "   ID  Orginal Price  Predicted Price\n",
      "0   1       1.142622        -0.319518\n",
      "1   2      -1.505360        -0.811727\n",
      "2   3       1.145195         0.015657\n",
      "3   4      -0.527743        -0.465252\n",
      "4   5       0.468274         3.757036\n"
     ]
    }
   ],
   "source": [
    "from sklearn.preprocessing import StandardScaler\n",
    "scaler = StandardScaler()\n",
    "df[['Orginal Price', 'Predicted Price']] = scaler.fit_transform(df[['Orginal Price', 'Predicted Price']])\n",
    "print(df.head())"
   ]
  },
  {
   "cell_type": "code",
   "execution_count": 13,
   "id": "e3771bdd",
   "metadata": {},
   "outputs": [],
   "source": [
    "from sklearn.model_selection import train_test_split\n",
    "X = df[['Orginal Price']] \n",
    "y = df['Predicted Price']  \n",
    "X_train, X_test, y_train, y_test = train_test_split(X, y, test_size=0.2, random_state=42)"
   ]
  },
  {
   "cell_type": "code",
   "execution_count": 14,
   "id": "28e3608a",
   "metadata": {},
   "outputs": [
    {
     "name": "stdout",
     "output_type": "stream",
     "text": [
      "Training set size: 52 rows\n",
      "Test set size: 14 rows\n"
     ]
    }
   ],
   "source": [
    "print(f\"Training set size: {X_train.shape[0]} rows\")\n",
    "print(f\"Test set size: {X_test.shape[0]} rows\")"
   ]
  },
  {
   "cell_type": "code",
   "execution_count": 15,
   "id": "f016d1f2",
   "metadata": {},
   "outputs": [],
   "source": [
    "from sklearn.svm import SVR\n",
    "from sklearn.metrics import mean_absolute_error, mean_squared_error, r2_score\n",
    "model_svr = SVR()"
   ]
  },
  {
   "cell_type": "code",
   "execution_count": 16,
   "id": "3f7309e9",
   "metadata": {},
   "outputs": [],
   "source": [
    "model_svr.fit(X_train, y_train)\n",
    "y_pred = model_svr.predict(X_test)\n",
    "mae = mean_absolute_error(y_test, y_pred)\n",
    "mse = mean_squared_error(y_test, y_pred)\n",
    "r2 = r2_score(y_test, y_pred)"
   ]
  },
  {
   "cell_type": "code",
   "execution_count": 17,
   "id": "fac665cc",
   "metadata": {},
   "outputs": [
    {
     "name": "stdout",
     "output_type": "stream",
     "text": [
      "Mean Absolute Error (MAE): 0.2782614697434171\n",
      "Mean Squared Error (MSE): 0.1490432921641754\n",
      "R-squared (R²): 0.0022912999015461954\n"
     ]
    }
   ],
   "source": [
    "print(f\"Mean Absolute Error (MAE): {mae}\")\n",
    "print(f\"Mean Squared Error (MSE): {mse}\")\n",
    "print(f\"R-squared (R²): {r2}\")"
   ]
  },
  {
   "cell_type": "code",
   "execution_count": 18,
   "id": "bf6dbc8e",
   "metadata": {},
   "outputs": [],
   "source": [
    "import pickle\n",
    "with open('svm_model.pkl', 'wb') as file:\n",
    "    pickle.dump(model_svr, file)"
   ]
  }
 ],
 "metadata": {
  "kernelspec": {
   "display_name": "Python 3",
   "language": "python",
   "name": "python3"
  },
  "language_info": {
   "codemirror_mode": {
    "name": "ipython",
    "version": 3
   },
   "file_extension": ".py",
   "mimetype": "text/x-python",
   "name": "python",
   "nbconvert_exporter": "python",
   "pygments_lexer": "ipython3",
   "version": "3.12.1"
  }
 },
 "nbformat": 4,
 "nbformat_minor": 5
}
